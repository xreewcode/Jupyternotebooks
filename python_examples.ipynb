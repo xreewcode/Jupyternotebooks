{
  "nbformat": 4,
  "nbformat_minor": 0,
  "metadata": {
    "colab": {
      "name": "python examples",
      "provenance": []
    },
    "kernelspec": {
      "name": "python3",
      "display_name": "Python 3"
    },
    "language_info": {
      "name": "python"
    }
  },
  "cells": [
    {
      "cell_type": "code",
      "metadata": {
        "colab": {
          "base_uri": "https://localhost:8080/"
        },
        "id": "WhMB3IaSFGCj",
        "outputId": "b9f76880-e481-4045-b5ba-9c6942c1f2c3"
      },
      "source": [
        "##Reverse the list\n",
        "n=int(input(\"Enter number: \"))\n",
        "rev=0\n",
        "while(n>0):\n",
        "  dig=n%10\n",
        "  rev=rev*10+dig\n",
        "  n=n//10\n",
        "  print(dig)\n",
        "  print(rev)\n",
        "  print(n)\n",
        "print(\"The reverse of the number:\",rev)"
      ],
      "execution_count": 72,
      "outputs": [
        {
          "output_type": "stream",
          "text": [
            "Enter number: 2345\n",
            "5\n",
            "5\n",
            "234\n",
            "4\n",
            "54\n",
            "23\n",
            "3\n",
            "543\n",
            "2\n",
            "2\n",
            "5432\n",
            "0\n",
            "The reverse of the number: 5432\n"
          ],
          "name": "stdout"
        }
      ]
    },
    {
      "cell_type": "code",
      "metadata": {
        "colab": {
          "base_uri": "https://localhost:8080/"
        },
        "id": "wfrRuNmQVTdV",
        "outputId": "654adae2-1048-4593-cf2e-1d8ac72f8778"
      },
      "source": [
        "##Reverse list\n",
        "m = input(\"Enter the value: \")\n",
        "m=list(m)\n",
        "m.reverse()\n",
        "print(m)\n",
        "l = ''.join(map(str,m))\n",
        "print(l)"
      ],
      "execution_count": 73,
      "outputs": [
        {
          "output_type": "stream",
          "text": [
            "Enter the value: 11,12,13,14\n",
            "['4', '1', ',', '3', '1', ',', '2', '1', ',', '1', '1']\n",
            "41,31,21,11\n"
          ],
          "name": "stdout"
        }
      ]
    },
    {
      "cell_type": "code",
      "metadata": {
        "colab": {
          "base_uri": "https://localhost:8080/"
        },
        "id": "Zzm7H81XOdCU",
        "outputId": "cd3e1fa1-7b8a-4469-e908-7e617a066ad9"
      },
      "source": [
        "##Reverse using inbuilt lib\n",
        "lisre=[10,11,12,13,17,190]\n",
        "lisre.reverse()\n",
        "print(lisre)"
      ],
      "execution_count": 74,
      "outputs": [
        {
          "output_type": "stream",
          "text": [
            "[190, 17, 13, 12, 11, 10]\n"
          ],
          "name": "stdout"
        }
      ]
    },
    {
      "cell_type": "code",
      "metadata": {
        "colab": {
          "base_uri": "https://localhost:8080/"
        },
        "id": "aYNwG98tO-0v",
        "outputId": "49dbc18d-f4b1-44fc-e391-87d6af7f01ee"
      },
      "source": [
        "##reversing using slicing\n",
        "lisre=[10,11,12,13,17,190]\n",
        "lsre2=lisre[::-1]\n",
        "print(lsre2)"
      ],
      "execution_count": 76,
      "outputs": [
        {
          "output_type": "stream",
          "text": [
            "[190, 17, 13, 12, 11, 10]\n"
          ],
          "name": "stdout"
        }
      ]
    },
    {
      "cell_type": "code",
      "metadata": {
        "colab": {
          "base_uri": "https://localhost:8080/"
        },
        "id": "OqG3cLHTayEt",
        "outputId": "ca8d5361-8d90-4b22-cb69-2bf14d39098f"
      },
      "source": [
        "#Reverse using function\n",
        "def solution(x):\n",
        "    string = str(x)\n",
        "    \n",
        "    if string[0] == '-':\n",
        "        return int('-'+string[:0:-1])\n",
        "    else:\n",
        "        return int(string[::-1])\n",
        "    \n",
        "print(solution(-231))\n",
        "print(solution(345))"
      ],
      "execution_count": 75,
      "outputs": [
        {
          "output_type": "stream",
          "text": [
            "-132\n",
            "543\n"
          ],
          "name": "stdout"
        }
      ]
    },
    {
      "cell_type": "code",
      "metadata": {
        "colab": {
          "base_uri": "https://localhost:8080/"
        },
        "id": "z5C-hFZ7Jor2",
        "outputId": "6b476622-07c9-4802-fdf5-94883dba89ab"
      },
      "source": [
        "##reverseusing list\n",
        "\n",
        "n =input(\"Enter the number\")\n",
        "w = list(n)\n",
        "w.reverse()\n",
        "print(\"list \"),w\n",
        "#k = \",\".join(w)\n",
        "print(w)\n",
        "l=''.join(map(str, w))\n",
        "print(l)"
      ],
      "execution_count": 79,
      "outputs": [
        {
          "output_type": "stream",
          "text": [
            "Enter the number5432\n",
            "list \n",
            "['2', '3', '4', '5']\n",
            "2345\n"
          ],
          "name": "stdout"
        }
      ]
    },
    {
      "cell_type": "code",
      "metadata": {
        "colab": {
          "base_uri": "https://localhost:8080/"
        },
        "id": "fj2LnSDDnqo3",
        "outputId": "663aeff6-c050-4bd1-f25d-002a94cc06f0"
      },
      "source": [
        "##print second max item in a list\n",
        "list = [1,4,6,8,30, 50]\n",
        "m = max(list)\n",
        "list.remove(m)\n",
        "print(max(list))\n"
      ],
      "execution_count": null,
      "outputs": [
        {
          "output_type": "stream",
          "text": [
            "30\n"
          ],
          "name": "stdout"
        }
      ]
    },
    {
      "cell_type": "code",
      "metadata": {
        "colab": {
          "base_uri": "https://localhost:8080/"
        },
        "id": "JHdBLDyArzJS",
        "outputId": "c7a60886-f9dc-49ea-b774-1916fdfc4b2f"
      },
      "source": [
        "##print tables\n",
        "n = int(input(\"print the number for the table: \"))\n",
        "for i in range(1,11):\n",
        "  print(n,\"X\",i,\" =\",int(n*i))"
      ],
      "execution_count": null,
      "outputs": [
        {
          "output_type": "stream",
          "text": [
            "print the number for the table: 5\n",
            "5 X 1  = 5\n",
            "5 X 2  = 10\n",
            "5 X 3  = 15\n",
            "5 X 4  = 20\n",
            "5 X 5  = 25\n",
            "5 X 6  = 30\n",
            "5 X 7  = 35\n",
            "5 X 8  = 40\n",
            "5 X 9  = 45\n",
            "5 X 10  = 50\n"
          ],
          "name": "stdout"
        }
      ]
    },
    {
      "cell_type": "code",
      "metadata": {
        "colab": {
          "base_uri": "https://localhost:8080/"
        },
        "id": "DSCTp_YCu7ld",
        "outputId": "1a5618ea-d5a2-4826-f807-8a8892eb4378"
      },
      "source": [
        "##prime number or not\n",
        "n = int(input((\"Enter the number: \")))\n",
        "if n%2 ==0:\n",
        "  print(\"Not a prime number\")\n",
        "elif n%3 ==0:\n",
        "  print(\"NOt a prime number\")\n",
        "elif n%5 ==0:\n",
        "  print(\"NOt a prime number\")\n",
        "elif n%7 ==0:\n",
        "  print(\"NOt a prime number\")\n",
        "elif n%9 ==0:\n",
        "  print(\"NOt a prime number\")\n",
        "else:\n",
        "  print(\"prime number\")"
      ],
      "execution_count": null,
      "outputs": [
        {
          "output_type": "stream",
          "text": [
            "Enter the number: 49\n",
            "NOt a prime number\n"
          ],
          "name": "stdout"
        }
      ]
    },
    {
      "cell_type": "code",
      "metadata": {
        "colab": {
          "base_uri": "https://localhost:8080/",
          "height": 283
        },
        "id": "8t4kfET0KZmR",
        "outputId": "a84f52fd-8907-4687-9b92-ac35ee758ff2"
      },
      "source": [
        "list =[2,4,6,7,9,23,67,89]\n",
        "m=len(list)\n",
        "print(m)\n",
        "frst=list[0]\n",
        "print(list[0])\n",
        "last=list[m-1]\n",
        "print(last)\n",
        "list.remove(last)\n",
        "print(list)\n",
        "first.append(list)\n",
        "print(list)"
      ],
      "execution_count": null,
      "outputs": [
        {
          "output_type": "stream",
          "text": [
            "8\n",
            "2\n",
            "89\n",
            "[2, 4, 6, 7, 9, 23, 67]\n"
          ],
          "name": "stdout"
        },
        {
          "output_type": "error",
          "ename": "NameError",
          "evalue": "ignored",
          "traceback": [
            "\u001b[0;31m---------------------------------------------------------------------------\u001b[0m",
            "\u001b[0;31mNameError\u001b[0m                                 Traceback (most recent call last)",
            "\u001b[0;32m<ipython-input-59-5dbf02d48db9>\u001b[0m in \u001b[0;36m<module>\u001b[0;34m()\u001b[0m\n\u001b[1;32m      8\u001b[0m \u001b[0mlist\u001b[0m\u001b[0;34m.\u001b[0m\u001b[0mremove\u001b[0m\u001b[0;34m(\u001b[0m\u001b[0mlast\u001b[0m\u001b[0;34m)\u001b[0m\u001b[0;34m\u001b[0m\u001b[0;34m\u001b[0m\u001b[0m\n\u001b[1;32m      9\u001b[0m \u001b[0mprint\u001b[0m\u001b[0;34m(\u001b[0m\u001b[0mlist\u001b[0m\u001b[0;34m)\u001b[0m\u001b[0;34m\u001b[0m\u001b[0;34m\u001b[0m\u001b[0m\n\u001b[0;32m---> 10\u001b[0;31m \u001b[0mfirst\u001b[0m\u001b[0;34m.\u001b[0m\u001b[0mappend\u001b[0m\u001b[0;34m(\u001b[0m\u001b[0mlist\u001b[0m\u001b[0;34m)\u001b[0m\u001b[0;34m\u001b[0m\u001b[0;34m\u001b[0m\u001b[0m\n\u001b[0m\u001b[1;32m     11\u001b[0m \u001b[0mprint\u001b[0m\u001b[0;34m(\u001b[0m\u001b[0mlist\u001b[0m\u001b[0;34m)\u001b[0m\u001b[0;34m\u001b[0m\u001b[0;34m\u001b[0m\u001b[0m\n",
            "\u001b[0;31mNameError\u001b[0m: name 'first' is not defined"
          ]
        }
      ]
    },
    {
      "cell_type": "code",
      "metadata": {
        "id": "3odfO2uQiTlD"
      },
      "source": [
        ""
      ],
      "execution_count": null,
      "outputs": []
    },
    {
      "cell_type": "code",
      "metadata": {
        "colab": {
          "base_uri": "https://localhost:8080/"
        },
        "id": "3AgVobLJMcon",
        "outputId": "aac7dd9e-f557-4df7-a69b-0b3fb96f3502"
      },
      "source": [
        "a=[]\n",
        "n= int(input(\"Enter the number of elements in list:\"))\n",
        "for x in range(0,n):\n",
        "  element=int(input(\"Enter element\" + str(x+1) + \":\"))\n",
        "  a.append(element)\n",
        "  temp=a[0]\n",
        "a[0]=a[n-1]\n",
        "a[n-1]=temp\n",
        "print(\"New list is:\")\n",
        "print(a)"
      ],
      "execution_count": null,
      "outputs": [
        {
          "output_type": "stream",
          "text": [
            "Enter the number of elements in list:5\n",
            "Enter element1:23\n",
            "Enter element2:22\n",
            "Enter element3:56\n",
            "Enter element4:23\n",
            "Enter element5:76\n",
            "New list is:\n",
            "[76, 22, 56, 23, 23]\n"
          ],
          "name": "stdout"
        }
      ]
    },
    {
      "cell_type": "code",
      "metadata": {
        "colab": {
          "base_uri": "https://localhost:8080/"
        },
        "id": "h4AuQiUWwzSg",
        "outputId": "b974026d-6897-4495-838a-754436c3f880"
      },
      "source": [
        "51%3"
      ],
      "execution_count": null,
      "outputs": [
        {
          "output_type": "execute_result",
          "data": {
            "text/plain": [
              "0"
            ]
          },
          "metadata": {
            "tags": []
          },
          "execution_count": 35
        }
      ]
    },
    {
      "cell_type": "code",
      "metadata": {
        "colab": {
          "base_uri": "https://localhost:8080/"
        },
        "id": "84cfzF6uiUyt",
        "outputId": "650b8187-3089-47a4-9e49-adbcd4542dc9"
      },
      "source": [
        "##palindrom checker\n",
        "string=input(\"Enter string:\")\n",
        "if(string==string[::-1]):\n",
        "  print(\"The string is a palindrome\")\n",
        "else:\n",
        "  print(\"The string isn't a palindrome\")"
      ],
      "execution_count": null,
      "outputs": [
        {
          "output_type": "stream",
          "text": [
            "Enter string:123321\n",
            "The string is a palindrome\n"
          ],
          "name": "stdout"
        }
      ]
    },
    {
      "cell_type": "code",
      "metadata": {
        "colab": {
          "base_uri": "https://localhost:8080/",
          "height": 232
        },
        "id": "Yi3IXppnirm9",
        "outputId": "55d28d1f-f118-4102-9d80-ddd4acec01d5"
      },
      "source": [
        "#vowel=[\"a\",\"e\",\"i\",\"o\",\"u\"] \n",
        "target=input(\"Enter the string \")\n",
        "if (target.__contains__(\"a\",\"e\",\"i\",\"o\",\"u\")):\n",
        "  print(\"contains vowel\")"
      ],
      "execution_count": null,
      "outputs": [
        {
          "output_type": "stream",
          "text": [
            "Enter the string towel\n"
          ],
          "name": "stdout"
        },
        {
          "output_type": "error",
          "ename": "TypeError",
          "evalue": "ignored",
          "traceback": [
            "\u001b[0;31m---------------------------------------------------------------------------\u001b[0m",
            "\u001b[0;31mTypeError\u001b[0m                                 Traceback (most recent call last)",
            "\u001b[0;32m<ipython-input-65-17735feb5503>\u001b[0m in \u001b[0;36m<module>\u001b[0;34m()\u001b[0m\n\u001b[1;32m      1\u001b[0m \u001b[0;31m#vowel=[\"a\",\"e\",\"i\",\"o\",\"u\"]\u001b[0m\u001b[0;34m\u001b[0m\u001b[0;34m\u001b[0m\u001b[0;34m\u001b[0m\u001b[0m\n\u001b[1;32m      2\u001b[0m \u001b[0mtarget\u001b[0m\u001b[0;34m=\u001b[0m\u001b[0minput\u001b[0m\u001b[0;34m(\u001b[0m\u001b[0;34m\"Enter the string \"\u001b[0m\u001b[0;34m)\u001b[0m\u001b[0;34m\u001b[0m\u001b[0;34m\u001b[0m\u001b[0m\n\u001b[0;32m----> 3\u001b[0;31m \u001b[0;32mif\u001b[0m \u001b[0;34m(\u001b[0m\u001b[0mtarget\u001b[0m\u001b[0;34m.\u001b[0m\u001b[0m__contains__\u001b[0m\u001b[0;34m(\u001b[0m\u001b[0;34m\"a\"\u001b[0m\u001b[0;34m,\u001b[0m\u001b[0;34m\"e\"\u001b[0m\u001b[0;34m,\u001b[0m\u001b[0;34m\"i\"\u001b[0m\u001b[0;34m,\u001b[0m\u001b[0;34m\"o\"\u001b[0m\u001b[0;34m,\u001b[0m\u001b[0;34m\"u\"\u001b[0m\u001b[0;34m)\u001b[0m\u001b[0;34m)\u001b[0m\u001b[0;34m:\u001b[0m\u001b[0;34m\u001b[0m\u001b[0;34m\u001b[0m\u001b[0m\n\u001b[0m\u001b[1;32m      4\u001b[0m   \u001b[0mprint\u001b[0m\u001b[0;34m(\u001b[0m\u001b[0;34m\"contains vowel\"\u001b[0m\u001b[0;34m)\u001b[0m\u001b[0;34m\u001b[0m\u001b[0;34m\u001b[0m\u001b[0m\n",
            "\u001b[0;31mTypeError\u001b[0m: expected 1 arguments, got 5"
          ]
        }
      ]
    },
    {
      "cell_type": "code",
      "metadata": {
        "colab": {
          "base_uri": "https://localhost:8080/"
        },
        "id": "MKJsWHEGfGkF",
        "outputId": "63137856-a635-4b37-9b4b-54f570f24874"
      },
      "source": [
        "ing = input(\"Enter the string:\")\n",
        "out= ing[::-1]\n",
        "print(out)"
      ],
      "execution_count": null,
      "outputs": [
        {
          "output_type": "stream",
          "text": [
            "Enter the string:turtle\n",
            "eltrut\n"
          ],
          "name": "stdout"
        }
      ]
    },
    {
      "cell_type": "code",
      "metadata": {
        "colab": {
          "base_uri": "https://localhost:8080/"
        },
        "id": "vhgmJ9dNzSOS",
        "outputId": "fd0fe9c9-ada6-4854-918a-e5fec27557a2"
      },
      "source": [
        "sent = input(\"Enter the text\")\n",
        "sent.split()\n",
        "print(sent)"
      ],
      "execution_count": null,
      "outputs": [
        {
          "output_type": "stream",
          "text": [
            "Enter the textthis is the way\n",
            "this is the way\n"
          ],
          "name": "stdout"
        }
      ]
    },
    {
      "cell_type": "code",
      "metadata": {
        "colab": {
          "base_uri": "https://localhost:8080/"
        },
        "id": "BS8hA-0hMJZu",
        "outputId": "31e5e925-3e46-491e-ac6e-e936b6e73e67"
      },
      "source": [
        "num1= 10\n",
        "num2=20\n",
        "x= num2\n",
        "y= num1\n",
        "num1=x\n",
        "num2=y\n",
        "print(num1)\n",
        "print(num2)"
      ],
      "execution_count": null,
      "outputs": [
        {
          "output_type": "stream",
          "text": [
            "20\n",
            "10\n"
          ],
          "name": "stdout"
        }
      ]
    },
    {
      "cell_type": "code",
      "metadata": {
        "colab": {
          "base_uri": "https://localhost:8080/"
        },
        "id": "UydSqy1WOvm-",
        "outputId": "35aaa6ae-cd1f-42a5-e794-491914c94a87"
      },
      "source": [
        "num= int(input(\"Enter the number : \"))\n",
        "count=0\n",
        "if (num>1):\n",
        "  for i in range(1,num+1):\n",
        "    if(num%i) == 0:\n",
        "      count = count+1\n",
        "  if count == 2:\n",
        "    print(\"prime number\")\n",
        "  else:\n",
        "    print(\"NOt prime number\")\n"
      ],
      "execution_count": null,
      "outputs": [
        {
          "output_type": "stream",
          "text": [
            "Enter the number : 57\n",
            "NOt prime number\n"
          ],
          "name": "stdout"
        }
      ]
    },
    {
      "cell_type": "code",
      "metadata": {
        "colab": {
          "base_uri": "https://localhost:8080/"
        },
        "id": "oy-EyPJDR_LL",
        "outputId": "95c20639-7728-4916-bd7c-e2600b73a342"
      },
      "source": [
        "num= int(input(\"Enter the number : \"))\n",
        "count=0\n",
        "factorial=1\n",
        "if(num<0):\n",
        "  print(\"Factorial does not exist for _ve numbers\")\n",
        "elif num == 0:\n",
        "  print(\"The factorial is 1\")\n",
        "else:\n",
        "  for i in range(1,num+1):\n",
        "    factorial= factorial*i\n",
        "  print(factorial)"
      ],
      "execution_count": 12,
      "outputs": [
        {
          "output_type": "stream",
          "text": [
            "Enter the number : 7\n",
            "5040\n"
          ],
          "name": "stdout"
        }
      ]
    },
    {
      "cell_type": "code",
      "metadata": {
        "id": "5_yyBExgFCLg",
        "colab": {
          "base_uri": "https://localhost:8080/"
        },
        "outputId": "495882ba-d9a7-4e2e-9d24-ba08f649283c"
      },
      "source": [
        "num=int(input(\"Enter the number: \"))\n",
        "count=0\n",
        "factorial =1\n",
        "if num<1:\n",
        "  print(\"NO factorial\")\n",
        "elif num==0:\n",
        "  print(\"not possible\")\n",
        "else:\n",
        "  for i in range(1,num+1):\n",
        "    factorial=factorial*i\n",
        "print(factorial)\n"
      ],
      "execution_count": 19,
      "outputs": [
        {
          "output_type": "stream",
          "text": [
            "Enter the number: 7\n",
            "5040\n"
          ],
          "name": "stdout"
        }
      ]
    },
    {
      "cell_type": "code",
      "metadata": {
        "colab": {
          "base_uri": "https://localhost:8080/"
        },
        "id": "2XPxczvcs6Hf",
        "outputId": "11dc1213-d752-4e67-b1d0-6b91b75155c9"
      },
      "source": [
        "7*6*5*4*3*2*1"
      ],
      "execution_count": 17,
      "outputs": [
        {
          "output_type": "execute_result",
          "data": {
            "text/plain": [
              "5040"
            ]
          },
          "metadata": {
            "tags": []
          },
          "execution_count": 17
        }
      ]
    },
    {
      "cell_type": "code",
      "metadata": {
        "colab": {
          "base_uri": "https://localhost:8080/"
        },
        "id": "aS7ECPL5wEHz",
        "outputId": "aa4a583c-f25a-401b-dd6f-395a10e019bc"
      },
      "source": [
        "n1=0\n",
        "n2=1\n",
        "print(n1)\n",
        "print(n2)\n",
        "for i in range(2,10):\n",
        "  sum=n1+n2\n",
        "  print(sum)\n",
        "  n1=n2\n",
        "  n2=sum\n"
      ],
      "execution_count": 25,
      "outputs": [
        {
          "output_type": "stream",
          "text": [
            "0\n",
            "1\n",
            "1\n",
            "2\n",
            "3\n",
            "5\n",
            "8\n",
            "13\n",
            "21\n",
            "34\n"
          ],
          "name": "stdout"
        }
      ]
    },
    {
      "cell_type": "code",
      "metadata": {
        "colab": {
          "base_uri": "https://localhost:8080/"
        },
        "id": "kIVhNoVHwzP2",
        "outputId": "62f0cd80-9154-4c9b-bc7c-aea4a0ad23b3"
      },
      "source": [
        "arra=[1,2,3,4,5]\n",
        "num=len(arra)\n",
        "sunm=0\n",
        "print(num)\n",
        "for i in arra:\n",
        "  sunm=i[]  print(sunm)"
      ],
      "execution_count": 39,
      "outputs": [
        {
          "output_type": "stream",
          "text": [
            "5\n",
            "1\n",
            "2\n",
            "3\n",
            "4\n",
            "5\n"
          ],
          "name": "stdout"
        }
      ]
    },
    {
      "cell_type": "code",
      "metadata": {
        "colab": {
          "base_uri": "https://localhost:8080/"
        },
        "id": "_tUzfGZ41jVZ",
        "outputId": "6a08535f-7134-4a78-c4c0-6f7e91fdb9f9"
      },
      "source": [
        "arr=[1,2,3,4,5]\n",
        "n1= arr[0]\n",
        "n2=len(arr)\n",
        "print(n2)\n",
        "print(n1)\n",
        "n3=arr[n2-1]\n",
        "arr[0]=n3\n",
        "print(arr)\n",
        "arr[n2-1]=n1\n",
        "print(arr)"
      ],
      "execution_count": 49,
      "outputs": [
        {
          "output_type": "stream",
          "text": [
            "5\n",
            "1\n",
            "[5, 2, 3, 4, 5]\n",
            "[5, 2, 3, 4, 1]\n"
          ],
          "name": "stdout"
        }
      ]
    },
    {
      "cell_type": "code",
      "metadata": {
        "colab": {
          "base_uri": "https://localhost:8080/"
        },
        "id": "4i3FytnZ8o4a",
        "outputId": "71454183-9ab8-43f1-f79c-114a95e6b880"
      },
      "source": [
        "arr =[1,2,3,4,5]\n",
        "arr[0],arr[-1]=arr[-1],arr[0]\n",
        "print(arr)"
      ],
      "execution_count": 50,
      "outputs": [
        {
          "output_type": "stream",
          "text": [
            "[5, 2, 3, 4, 1]\n"
          ],
          "name": "stdout"
        }
      ]
    },
    {
      "cell_type": "code",
      "metadata": {
        "colab": {
          "base_uri": "https://localhost:8080/"
        },
        "id": "mtW8fJPW_w4J",
        "outputId": "36d43878-c73b-447e-a8c6-7eb2e8bca114"
      },
      "source": [
        "arr=[1,2,3,4,5]\n",
        "pos1=int(input(\"Input the position to swap:\"))\n",
        "pos2=int(input(\"Input the position to swap:\"))\n",
        "new=arr[pos2]\n",
        "new1=arr[pos1]\n",
        "arr[pos1]=new\n",
        "arr[pos2]=new1\n",
        "print(arr)"
      ],
      "execution_count": 55,
      "outputs": [
        {
          "output_type": "stream",
          "text": [
            "Input the position to swap:3\n",
            "Input the position to swap:2\n",
            "[1, 2, 4, 3, 5]\n"
          ],
          "name": "stdout"
        }
      ]
    },
    {
      "cell_type": "code",
      "metadata": {
        "colab": {
          "base_uri": "https://localhost:8080/"
        },
        "id": "rezL21EMBs8t",
        "outputId": "c662fee9-a7d2-4636-ef88-b911dace67c7"
      },
      "source": [
        "arr=[1,2,3,4,5]\n",
        "pos1=int(input(\"Input the position to swap:\"))\n",
        "pos2=int(input(\"Input the position to swap:\"))\n",
        "arr[pos1],arr[pos2]= arr[pos2],arr[pos1]\n",
        "print(arr)"
      ],
      "execution_count": 56,
      "outputs": [
        {
          "output_type": "stream",
          "text": [
            "Input the position to swap:2\n",
            "Input the position to swap:4\n",
            "[1, 2, 5, 4, 3]\n"
          ],
          "name": "stdout"
        }
      ]
    },
    {
      "cell_type": "code",
      "metadata": {
        "colab": {
          "base_uri": "https://localhost:8080/",
          "height": 246
        },
        "id": "3PWtf1H6DRfz",
        "outputId": "0cc87313-4768-4e3b-ed87-ada6839dc2b4"
      },
      "source": [
        "lisr=[\"geeks\", \"rem\",\"geeks\",\"rad\", \"geeks\"]\n",
        "word= \"geeks\"\n",
        "n=2\n",
        "count=0\n",
        "for i in range(0,len(lisr)-1):\n",
        "  if lisr(i)==word:\n",
        "    count=count+1\n",
        "    if(count==n):\n",
        "      del (lisr[i])\n",
        "print(lisr)"
      ],
      "execution_count": 63,
      "outputs": [
        {
          "output_type": "error",
          "ename": "TypeError",
          "evalue": "ignored",
          "traceback": [
            "\u001b[0;31m---------------------------------------------------------------------------\u001b[0m",
            "\u001b[0;31mTypeError\u001b[0m                                 Traceback (most recent call last)",
            "\u001b[0;32m<ipython-input-63-e69d3bee9eb2>\u001b[0m in \u001b[0;36m<module>\u001b[0;34m()\u001b[0m\n\u001b[1;32m      4\u001b[0m \u001b[0mcount\u001b[0m\u001b[0;34m=\u001b[0m\u001b[0;36m0\u001b[0m\u001b[0;34m\u001b[0m\u001b[0;34m\u001b[0m\u001b[0m\n\u001b[1;32m      5\u001b[0m \u001b[0;32mfor\u001b[0m \u001b[0mi\u001b[0m \u001b[0;32min\u001b[0m \u001b[0mrange\u001b[0m\u001b[0;34m(\u001b[0m\u001b[0;36m0\u001b[0m\u001b[0;34m,\u001b[0m\u001b[0mlen\u001b[0m\u001b[0;34m(\u001b[0m\u001b[0mlisr\u001b[0m\u001b[0;34m)\u001b[0m\u001b[0;34m-\u001b[0m\u001b[0;36m1\u001b[0m\u001b[0;34m)\u001b[0m\u001b[0;34m:\u001b[0m\u001b[0;34m\u001b[0m\u001b[0;34m\u001b[0m\u001b[0m\n\u001b[0;32m----> 6\u001b[0;31m   \u001b[0;32mif\u001b[0m \u001b[0mlisr\u001b[0m\u001b[0;34m(\u001b[0m\u001b[0mi\u001b[0m\u001b[0;34m)\u001b[0m\u001b[0;34m==\u001b[0m\u001b[0mword\u001b[0m\u001b[0;34m:\u001b[0m\u001b[0;34m\u001b[0m\u001b[0;34m\u001b[0m\u001b[0m\n\u001b[0m\u001b[1;32m      7\u001b[0m     \u001b[0mcount\u001b[0m\u001b[0;34m=\u001b[0m\u001b[0mcount\u001b[0m\u001b[0;34m+\u001b[0m\u001b[0;36m1\u001b[0m\u001b[0;34m\u001b[0m\u001b[0;34m\u001b[0m\u001b[0m\n\u001b[1;32m      8\u001b[0m     \u001b[0;32mif\u001b[0m\u001b[0;34m(\u001b[0m\u001b[0mcount\u001b[0m\u001b[0;34m==\u001b[0m\u001b[0mn\u001b[0m\u001b[0;34m)\u001b[0m\u001b[0;34m:\u001b[0m\u001b[0;34m\u001b[0m\u001b[0;34m\u001b[0m\u001b[0m\n",
            "\u001b[0;31mTypeError\u001b[0m: 'list' object is not callable"
          ]
        }
      ]
    },
    {
      "cell_type": "code",
      "metadata": {
        "colab": {
          "base_uri": "https://localhost:8080/"
        },
        "id": "Hry8eseBFf7j",
        "outputId": "eb42ee88-9ea0-4dc2-cca2-c84e4977c08c"
      },
      "source": [
        "lis=[1,2,3,4,5,6,7,8,9]\n",
        "ele=4\n",
        "flag=0\n",
        "for i in lis:\n",
        "  if i ==ele:\n",
        "    print(\"exists in the list\")\n",
        "    flag=1\n",
        "    break\n",
        "if(flag==0):\n",
        "  print(\"not found\")\n",
        "  "
      ],
      "execution_count": 65,
      "outputs": [
        {
          "output_type": "stream",
          "text": [
            "exists in the list\n"
          ],
          "name": "stdout"
        }
      ]
    },
    {
      "cell_type": "code",
      "metadata": {
        "colab": {
          "base_uri": "https://localhost:8080/"
        },
        "id": "9dyMiMG-L2PS",
        "outputId": "89ddec45-682b-406a-e843-44eee226d8ae"
      },
      "source": [
        "##find element in a list\n",
        "lis=[1,2,3,4,5,6,7,8,9]\n",
        "ele=40\n",
        "if ele in lis:\n",
        "  print(\"exists\")\n",
        "else:\n",
        "  print(\"not found\")"
      ],
      "execution_count": 67,
      "outputs": [
        {
          "output_type": "stream",
          "text": [
            "not found\n"
          ],
          "name": "stdout"
        }
      ]
    },
    {
      "cell_type": "code",
      "metadata": {
        "colab": {
          "base_uri": "https://localhost:8080/"
        },
        "id": "cTtcLJksMKX1",
        "outputId": "7022e504-367c-4f86-b0ff-b7dc07da113c"
      },
      "source": [
        "##clear or delete list\n",
        "lis=[1,2,3,4,5,6,7,8,9]\n",
        "print(lis)\n",
        "print(lis.clear())\n",
        "lis*=0\n",
        "print(lis)"
      ],
      "execution_count": 71,
      "outputs": [
        {
          "output_type": "stream",
          "text": [
            "[1, 2, 3, 4, 5, 6, 7, 8, 9]\n",
            "None\n",
            "[]\n"
          ],
          "name": "stdout"
        }
      ]
    },
    {
      "cell_type": "code",
      "metadata": {
        "colab": {
          "base_uri": "https://localhost:8080/"
        },
        "id": "OY5Q8ecdQWWu",
        "outputId": "374345cc-1d67-4068-e6a3-dcbc35d72f96"
      },
      "source": [
        "##copy a list\n",
        "lisf=[1, 2, 3, 4, 5, 6, 7, 8, 9]\n",
        "mylisf=lisf[:]\n",
        "mylisf1=lisf.copy()\n",
        "print(mylisf)\n",
        "print(mylisf1)"
      ],
      "execution_count": 81,
      "outputs": [
        {
          "output_type": "stream",
          "text": [
            "[1, 2, 3, 4, 5, 6, 7, 8, 9]\n",
            "[1, 2, 3, 4, 5, 6, 7, 8, 9]\n"
          ],
          "name": "stdout"
        }
      ]
    },
    {
      "cell_type": "code",
      "metadata": {
        "colab": {
          "base_uri": "https://localhost:8080/"
        },
        "id": "B30zckzwREf9",
        "outputId": "d6d8a315-7f8e-4b88-f2e4-f82f8d71d5c0"
      },
      "source": [
        "lisf=[1, 2, 3, 4, 5, 6, 7, 8, 9]\n",
        "lisfcopy=[i for i in lisf]\n",
        "print(lisfcopy)"
      ],
      "execution_count": 82,
      "outputs": [
        {
          "output_type": "stream",
          "text": [
            "[1, 2, 3, 4, 5, 6, 7, 8, 9]\n"
          ],
          "name": "stdout"
        }
      ]
    },
    {
      "cell_type": "code",
      "metadata": {
        "colab": {
          "base_uri": "https://localhost:8080/"
        },
        "id": "aCUwLtXDRa6v",
        "outputId": "f67c7eda-abe8-4cff-a73c-b43f6b86cfaf"
      },
      "source": [
        "lisf=[1, 2, 3, 4, 5, 6, 7, 8, 9]\n",
        "mylif=[]\n",
        "for i in lisf:\n",
        "  mylif.append(i)\n",
        "print(mylif)"
      ],
      "execution_count": 84,
      "outputs": [
        {
          "output_type": "stream",
          "text": [
            "[1, 2, 3, 4, 5, 6, 7, 8, 9]\n"
          ],
          "name": "stdout"
        }
      ]
    },
    {
      "cell_type": "code",
      "metadata": {
        "colab": {
          "base_uri": "https://localhost:8080/"
        },
        "id": "djmES1odRpav",
        "outputId": "8cf322c3-37fb-41e0-ee83-ed55b96658c1"
      },
      "source": [
        "lisf=[1, 2, 3, 4, 5, 6, 7, 8, 9,6,8,8,9,5]\n",
        "x=8\n",
        "count=0\n",
        "for ele in lisf:\n",
        "  if(ele==x):\n",
        "    count=count+1\n",
        "print(\"contains \",count)\n",
        "print(\"{} has occured {} times\".format(x,count))\n",
        "print(\"{} has occured {} times\".format(x,lisf.count(x)))\n"
      ],
      "execution_count": 91,
      "outputs": [
        {
          "output_type": "stream",
          "text": [
            "contains  3\n",
            "8 has occured 3 times\n",
            "8 has occured 3 times\n"
          ],
          "name": "stdout"
        }
      ]
    },
    {
      "cell_type": "code",
      "metadata": {
        "colab": {
          "base_uri": "https://localhost:8080/"
        },
        "id": "3tOkomtTTmGz",
        "outputId": "756a7580-4667-4b64-db8b-74083f43afbe"
      },
      "source": [
        "from collections import Counter\n",
        "lisf=[1, 2, 3, 4, 5, 6, 7, 8, 9,6,8,8,9,5]\n",
        "x=9\n",
        "dic=Counter(lisf)\n",
        "print(dic[9])"
      ],
      "execution_count": 94,
      "outputs": [
        {
          "output_type": "stream",
          "text": [
            "2\n"
          ],
          "name": "stdout"
        }
      ]
    },
    {
      "cell_type": "code",
      "metadata": {
        "colab": {
          "base_uri": "https://localhost:8080/"
        },
        "id": "R5-bLCM-UC8E",
        "outputId": "de037a3b-10a3-425d-af38-badbc71e05f8"
      },
      "source": [
        "## add a list\n",
        "lisf=[1, 2, 3, 4, 5, 6, 7, 8, 9,6,8,8,9,5]\n",
        "total=0\n",
        "for i in range(0,len(lisf)):\n",
        "  total=total+lisf[i]\n",
        "print(total)\n"
      ],
      "execution_count": 99,
      "outputs": [
        {
          "output_type": "stream",
          "text": [
            "81\n"
          ],
          "name": "stdout"
        }
      ]
    },
    {
      "cell_type": "code",
      "metadata": {
        "colab": {
          "base_uri": "https://localhost:8080/",
          "height": 209
        },
        "id": "az-8yNJMYHy-",
        "outputId": "a2642ff2-948c-4c0e-a241-c46f1835478b"
      },
      "source": [
        "lisf=[1, 2, 3, 4, 5, 6, 7, 8, 9,6,8,8,9,5]\n",
        "sund= sum(lisf)\n",
        "print(sund)"
      ],
      "execution_count": 97,
      "outputs": [
        {
          "output_type": "error",
          "ename": "TypeError",
          "evalue": "ignored",
          "traceback": [
            "\u001b[0;31m---------------------------------------------------------------------------\u001b[0m",
            "\u001b[0;31mTypeError\u001b[0m                                 Traceback (most recent call last)",
            "\u001b[0;32m<ipython-input-97-9dbadb975e9f>\u001b[0m in \u001b[0;36m<module>\u001b[0;34m()\u001b[0m\n\u001b[1;32m      1\u001b[0m \u001b[0mlisf\u001b[0m\u001b[0;34m=\u001b[0m\u001b[0;34m[\u001b[0m\u001b[0;36m1\u001b[0m\u001b[0;34m,\u001b[0m \u001b[0;36m2\u001b[0m\u001b[0;34m,\u001b[0m \u001b[0;36m3\u001b[0m\u001b[0;34m,\u001b[0m \u001b[0;36m4\u001b[0m\u001b[0;34m,\u001b[0m \u001b[0;36m5\u001b[0m\u001b[0;34m,\u001b[0m \u001b[0;36m6\u001b[0m\u001b[0;34m,\u001b[0m \u001b[0;36m7\u001b[0m\u001b[0;34m,\u001b[0m \u001b[0;36m8\u001b[0m\u001b[0;34m,\u001b[0m \u001b[0;36m9\u001b[0m\u001b[0;34m,\u001b[0m\u001b[0;36m6\u001b[0m\u001b[0;34m,\u001b[0m\u001b[0;36m8\u001b[0m\u001b[0;34m,\u001b[0m\u001b[0;36m8\u001b[0m\u001b[0;34m,\u001b[0m\u001b[0;36m9\u001b[0m\u001b[0;34m,\u001b[0m\u001b[0;36m5\u001b[0m\u001b[0;34m]\u001b[0m\u001b[0;34m\u001b[0m\u001b[0;34m\u001b[0m\u001b[0m\n\u001b[0;32m----> 2\u001b[0;31m \u001b[0msund\u001b[0m\u001b[0;34m=\u001b[0m \u001b[0msum\u001b[0m\u001b[0;34m(\u001b[0m\u001b[0mlisf\u001b[0m\u001b[0;34m)\u001b[0m\u001b[0;34m\u001b[0m\u001b[0;34m\u001b[0m\u001b[0m\n\u001b[0m\u001b[1;32m      3\u001b[0m \u001b[0mprint\u001b[0m\u001b[0;34m(\u001b[0m\u001b[0msund\u001b[0m\u001b[0;34m)\u001b[0m\u001b[0;34m\u001b[0m\u001b[0;34m\u001b[0m\u001b[0m\n",
            "\u001b[0;31mTypeError\u001b[0m: 'int' object is not callable"
          ]
        }
      ]
    },
    {
      "cell_type": "code",
      "metadata": {
        "colab": {
          "base_uri": "https://localhost:8080/"
        },
        "id": "A3lQ5q9AYZ3N",
        "outputId": "e5b2ec71-0db5-4907-c33b-5071a13ca79e"
      },
      "source": [
        "##multiply the list\n",
        "lisn=[1, 2, 3, 4, 5, 6,5]\n",
        "resu=1\n",
        "for i in range(1,len(lisn)):\n",
        "  resu=resu*i\n",
        "print(resu)"
      ],
      "execution_count": 98,
      "outputs": [
        {
          "output_type": "stream",
          "text": [
            "720\n"
          ],
          "name": "stdout"
        }
      ]
    },
    {
      "cell_type": "code",
      "metadata": {
        "id": "MNOPzh_-ZJeH"
      },
      "source": [
        "##multiply list\n",
        "lisn=[1, 2, 3, 4, 5, 6,5]\n"
      ],
      "execution_count": null,
      "outputs": []
    },
    {
      "cell_type": "code",
      "metadata": {
        "colab": {
          "base_uri": "https://localhost:8080/"
        },
        "id": "xxtiXh31aCEo",
        "outputId": "cdac4d9a-0798-4fea-eef5-e09e39396966"
      },
      "source": [
        "lisn=[1, 2, 3, 4, 5, 6,5]\n",
        "print(min(lisn))\n",
        "print(max(lisn))"
      ],
      "execution_count": 101,
      "outputs": [
        {
          "output_type": "stream",
          "text": [
            "1\n",
            "6\n"
          ],
          "name": "stdout"
        }
      ]
    },
    {
      "cell_type": "code",
      "metadata": {
        "colab": {
          "base_uri": "https://localhost:8080/"
        },
        "id": "-so8SghnaN9g",
        "outputId": "74136d60-ff31-4e24-ba0f-bf5c79b1ccdd"
      },
      "source": [
        "lisn=[1, 2, 3, 4, 5, 6,5]\n",
        "lisn.sort()\n",
        "print(lisn)"
      ],
      "execution_count": 102,
      "outputs": [
        {
          "output_type": "stream",
          "text": [
            "[1, 2, 3, 4, 5, 5, 6]\n"
          ],
          "name": "stdout"
        }
      ]
    },
    {
      "cell_type": "code",
      "metadata": {
        "colab": {
          "base_uri": "https://localhost:8080/"
        },
        "id": "GfeXkj_TcsmO",
        "outputId": "4fc2f349-601d-46d1-be70-6c199f0bad1e"
      },
      "source": [
        "lisn=[1, 2, 3, 4, 5, 6,50,450]\n",
        "lisn.sort()\n",
        "print(lisn[-1])\n",
        "print(lisn[-2])"
      ],
      "execution_count": 104,
      "outputs": [
        {
          "output_type": "stream",
          "text": [
            "450\n",
            "50\n"
          ],
          "name": "stdout"
        }
      ]
    },
    {
      "cell_type": "code",
      "metadata": {
        "colab": {
          "base_uri": "https://localhost:8080/"
        },
        "id": "z3ledWCadsOR",
        "outputId": "7e133181-4002-4d5e-c47b-03e1dc28251f"
      },
      "source": [
        "##palindrome\n",
        "pali=input(\"Enter the string\")\n",
        "if pali[:]==pali[::-1]:\n",
        "  print(\"it is palindrome\")\n",
        "else:\n",
        "  print(\"Not palindrome\")"
      ],
      "execution_count": 109,
      "outputs": [
        {
          "output_type": "stream",
          "text": [
            "Enter the string123321\n",
            "it is palindrome\n"
          ],
          "name": "stdout"
        }
      ]
    },
    {
      "cell_type": "code",
      "metadata": {
        "colab": {
          "base_uri": "https://localhost:8080/"
        },
        "id": "u3FuZ1d8ev2b",
        "outputId": "9de1a776-eb8a-4ab3-dd4e-e5cc05662831"
      },
      "source": [
        "##Reverse a list or string sentence\n",
        "dfstr=\"this is a fine day\"\n",
        "words=dfstr.split(\" \")\n",
        "print(words)\n",
        "words.reverse()\n",
        "print(words)\n",
        "words=' '.join(words)\n",
        "print(words)"
      ],
      "execution_count": 114,
      "outputs": [
        {
          "output_type": "stream",
          "text": [
            "['this', 'is', 'a', 'fine', 'day']\n",
            "['day', 'fine', 'a', 'is', 'this']\n",
            "day fine a is this\n"
          ],
          "name": "stdout"
        }
      ]
    },
    {
      "cell_type": "code",
      "metadata": {
        "id": "9EUJ0Ltsfong"
      },
      "source": [
        "##findsubstring\n",
        "fdstr=\"this can be a fine day\"\n",
        "sub_str=\"fine\"\n",
        "print(fdstr.find(sub_str))\n",
        "if(fdstr.find(sub_str)==-1):\n",
        "  print(\"Not Found\")\n",
        "else:\n",
        "  print(\"found\")"
      ],
      "execution_count": null,
      "outputs": []
    },
    {
      "cell_type": "code",
      "metadata": {
        "colab": {
          "base_uri": "https://localhost:8080/"
        },
        "id": "1UFyNeTtj63n",
        "outputId": "d85c2063-9adb-4d8a-aa9c-8719ac42f3d1"
      },
      "source": [
        "fdstr=\"this can be a fine day\"\n",
        "sub_str=\"fine\"\n",
        "print(fdstr.__contains__(sub_str))"
      ],
      "execution_count": 115,
      "outputs": [
        {
          "output_type": "stream",
          "text": [
            "True\n"
          ],
          "name": "stdout"
        }
      ]
    },
    {
      "cell_type": "code",
      "metadata": {
        "colab": {
          "base_uri": "https://localhost:8080/"
        },
        "id": "z25PgkyUkM9l",
        "outputId": "d0f15c1e-cda9-433d-b460-668936e03d48"
      },
      "source": [
        "##find length of the string\n",
        "ftrstr=input(\"Enter the string value:\")\n",
        "counter=0\n",
        "for i in ftrstr:\n",
        "  counter=counter+1\n",
        "print(counter)"
      ],
      "execution_count": 117,
      "outputs": [
        {
          "output_type": "stream",
          "text": [
            "Enter the string value:frontier communications\n",
            "23\n"
          ],
          "name": "stdout"
        }
      ]
    },
    {
      "cell_type": "code",
      "metadata": {
        "colab": {
          "base_uri": "https://localhost:8080/"
        },
        "id": "d_cr38AIks7f",
        "outputId": "1309e9c0-b2f9-4b82-bc6a-4fd5c310d1c8"
      },
      "source": [
        "ftrstr=input(\"Enter the string value:\")\n",
        "print(len(ftrstr))"
      ],
      "execution_count": 118,
      "outputs": [
        {
          "output_type": "stream",
          "text": [
            "Enter the string value:frontier\n",
            "8\n"
          ],
          "name": "stdout"
        }
      ]
    },
    {
      "cell_type": "code",
      "metadata": {
        "colab": {
          "base_uri": "https://localhost:8080/",
          "height": 246
        },
        "id": "i7Up1kiglpiQ",
        "outputId": "fdb4018c-dcbc-4977-8d4e-8e712b86a931"
      },
      "source": [
        "import re\n",
        "ftrst=\"this is @c@ompl#c@t3d day\"\n",
        "regex=re.compile('[@_!#$%^&*()<>?/\\|}{~:]')\n",
        "count=0\n",
        "for i in range(0,len(ftrst)):\n",
        "    count=count+1\n",
        "    \n",
        "    if (regex.search(i)==None):\n",
        "      print(\"NO Special characters\")\n",
        "    else:\n",
        "      print(\"contains character\")\n",
        "    print(count)\n"
      ],
      "execution_count": 140,
      "outputs": [
        {
          "output_type": "error",
          "ename": "TypeError",
          "evalue": "ignored",
          "traceback": [
            "\u001b[0;31m---------------------------------------------------------------------------\u001b[0m",
            "\u001b[0;31mTypeError\u001b[0m                                 Traceback (most recent call last)",
            "\u001b[0;32m<ipython-input-140-1561148c71f9>\u001b[0m in \u001b[0;36m<module>\u001b[0;34m()\u001b[0m\n\u001b[1;32m      6\u001b[0m     \u001b[0mcount\u001b[0m\u001b[0;34m=\u001b[0m\u001b[0mcount\u001b[0m\u001b[0;34m+\u001b[0m\u001b[0;36m1\u001b[0m\u001b[0;34m\u001b[0m\u001b[0;34m\u001b[0m\u001b[0m\n\u001b[1;32m      7\u001b[0m \u001b[0;34m\u001b[0m\u001b[0m\n\u001b[0;32m----> 8\u001b[0;31m     \u001b[0;32mif\u001b[0m \u001b[0;34m(\u001b[0m\u001b[0mregex\u001b[0m\u001b[0;34m.\u001b[0m\u001b[0msearch\u001b[0m\u001b[0;34m(\u001b[0m\u001b[0mi\u001b[0m\u001b[0;34m)\u001b[0m\u001b[0;34m==\u001b[0m\u001b[0;32mNone\u001b[0m\u001b[0;34m)\u001b[0m\u001b[0;34m:\u001b[0m\u001b[0;34m\u001b[0m\u001b[0;34m\u001b[0m\u001b[0m\n\u001b[0m\u001b[1;32m      9\u001b[0m       \u001b[0mprint\u001b[0m\u001b[0;34m(\u001b[0m\u001b[0;34m\"NO Special characters\"\u001b[0m\u001b[0;34m)\u001b[0m\u001b[0;34m\u001b[0m\u001b[0;34m\u001b[0m\u001b[0m\n\u001b[1;32m     10\u001b[0m     \u001b[0;32melse\u001b[0m\u001b[0;34m:\u001b[0m\u001b[0;34m\u001b[0m\u001b[0;34m\u001b[0m\u001b[0m\n",
            "\u001b[0;31mTypeError\u001b[0m: expected string or bytes-like object"
          ]
        }
      ]
    },
    {
      "cell_type": "code",
      "metadata": {
        "id": "HjSfGvHOzxox"
      },
      "source": [
        ""
      ],
      "execution_count": null,
      "outputs": []
    }
  ]
}